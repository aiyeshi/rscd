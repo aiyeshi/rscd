{
  "nbformat": 4,
  "nbformat_minor": 0,
  "metadata": {
    "colab": {
      "name": "mtcd.ipynb",
      "provenance": [],
      "collapsed_sections": [],
      "authorship_tag": "ABX9TyOA/bKGq34ZImhmYckFkv2I",
      "include_colab_link": true
    },
    "kernelspec": {
      "name": "python3",
      "display_name": "Python 3"
    },
    "accelerator": "GPU"
  },
  "cells": [
    {
      "cell_type": "markdown",
      "metadata": {
        "id": "view-in-github",
        "colab_type": "text"
      },
      "source": [
        "<a href=\"https://colab.research.google.com/github/aiyeshi/rscd/blob/master/mtcd.ipynb\" target=\"_parent\"><img src=\"https://colab.research.google.com/assets/colab-badge.svg\" alt=\"Open In Colab\"/></a>"
      ]
    },
    {
      "cell_type": "code",
      "metadata": {
        "id": "SLA-Wu7e69HU",
        "colab_type": "code",
        "outputId": "15d0c323-4a44-4ff4-dae3-dc5a923211d2",
        "colab": {
          "base_uri": "https://localhost:8080/",
          "height": 35
        }
      },
      "source": [
        "from google.colab import drive\n",
        "drive.mount('/content/drive')"
      ],
      "execution_count": 0,
      "outputs": [
        {
          "output_type": "stream",
          "text": [
            "Drive already mounted at /content/drive; to attempt to forcibly remount, call drive.mount(\"/content/drive\", force_remount=True).\n"
          ],
          "name": "stdout"
        }
      ]
    },
    {
      "cell_type": "code",
      "metadata": {
        "id": "ei8zx_yx7tH1",
        "colab_type": "code",
        "outputId": "b654369b-8da7-4f3b-fce1-f70b05380d80",
        "colab": {
          "base_uri": "https://localhost:8080/",
          "height": 215
        }
      },
      "source": [
        "!cd '/content/drive/My Drive/saycd'\n",
        "!ls '/content/drive/My Drive/saycd'"
      ],
      "execution_count": 0,
      "outputs": [
        {
          "output_type": "stream",
          "text": [
            "colab_mean_teacher_cd_for_Riyadh.py\n",
            "cpu_result\n",
            "loss.py\n",
            "mina_mtua_block5_bs128_epc300_w01_alpha0999_seed1578457233\n",
            "mina_norm_block5_mt_fusion_select_dataset.mat\n",
            "mtcd.ipynb\n",
            "MT_uncertainty_cd_for_Mina_colab_forCPU.py\n",
            "MT_uncertainty_cd_for_Mina_colab.py\n",
            "__pycache__\n",
            "ramps.py\n",
            "Riyadh_normalization_block7_mt_fusion_select_dataset.mat\n"
          ],
          "name": "stdout"
        }
      ]
    },
    {
      "cell_type": "markdown",
      "metadata": {
        "id": "sb0VWQxnu3q8",
        "colab_type": "text"
      },
      "source": [
        "运行python程序"
      ]
    },
    {
      "cell_type": "code",
      "metadata": {
        "id": "RXFs0CoF8Ix7",
        "colab_type": "code",
        "colab": {}
      },
      "source": [
        "!python '/content/drive/My Drive/saycd/MT_uncertainty_cd_for_Mina_colab.py'"
      ],
      "execution_count": 0,
      "outputs": []
    },
    {
      "cell_type": "code",
      "metadata": {
        "id": "z7_7rAWkIs__",
        "colab_type": "code",
        "colab": {}
      },
      "source": [
        ""
      ],
      "execution_count": 0,
      "outputs": []
    }
  ]
}